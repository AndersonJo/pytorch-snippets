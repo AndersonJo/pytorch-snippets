{
 "cells": [
  {
   "cell_type": "code",
   "execution_count": 4,
   "metadata": {},
   "outputs": [],
   "source": [
    "import torch\n",
    "import torch.nn as nn"
   ]
  },
  {
   "cell_type": "markdown",
   "metadata": {},
   "source": [
    "## 2D Convolution and Deconvolution"
   ]
  },
  {
   "cell_type": "code",
   "execution_count": 37,
   "metadata": {},
   "outputs": [
    {
     "name": "stdout",
     "output_type": "stream",
     "text": [
      "conv  : torch.Size([16, 12, 60, 60])\n",
      "deconv: torch.Size([16, 7, 64, 64])\n"
     ]
    }
   ],
   "source": [
    "x = torch.rand(16, 3, 64, 64) # 16 images\n",
    "\n",
    "conv = nn.Conv2d(3, 12, kernel_size=5)\n",
    "deconv = nn.ConvTranspose2d(12, 7, kernel_size=5)\n",
    "h1 = conv(x)\n",
    "h2 = deconv(h)\n",
    "\n",
    "print('conv  :', h1.shape)\n",
    "print('deconv:', h2.shape)"
   ]
  }
 ],
 "metadata": {
  "kernelspec": {
   "display_name": "Python 3",
   "language": "python",
   "name": "python3"
  },
  "language_info": {
   "codemirror_mode": {
    "name": "ipython",
    "version": 3
   },
   "file_extension": ".py",
   "mimetype": "text/x-python",
   "name": "python",
   "nbconvert_exporter": "python",
   "pygments_lexer": "ipython3",
   "version": "3.6.9"
  },
  "toc": {
   "base_numbering": 1,
   "nav_menu": {},
   "number_sections": true,
   "sideBar": true,
   "skip_h1_title": false,
   "title_cell": "Table of Contents",
   "title_sidebar": "Contents",
   "toc_cell": false,
   "toc_position": {},
   "toc_section_display": true,
   "toc_window_display": false
  }
 },
 "nbformat": 4,
 "nbformat_minor": 4
}
