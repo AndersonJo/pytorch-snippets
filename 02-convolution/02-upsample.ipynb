{
 "cells": [
  {
   "cell_type": "code",
   "execution_count": 9,
   "metadata": {},
   "outputs": [],
   "source": [
    "import torch\n",
    "import torch.nn as nn\n",
    "import torch.nn.functional as F"
   ]
  },
  {
   "cell_type": "markdown",
   "metadata": {},
   "source": [
    "## 2D Upsampling Layer"
   ]
  },
  {
   "cell_type": "code",
   "execution_count": 27,
   "metadata": {},
   "outputs": [
    {
     "name": "stdout",
     "output_type": "stream",
     "text": [
      "x       : torch.Size([16, 3, 64, 64])\n",
      "conv    : torch.Size([16, 12, 30, 30])\n",
      "upsample: torch.Size([16, 12, 64, 64])\n"
     ]
    }
   ],
   "source": [
    "x = torch.rand(16, 3, 64, 64) # 16 images\n",
    "\n",
    "conv = nn.Conv2d(3, 12, kernel_size=6, stride=2)\n",
    "upsample = nn.Upsample(64, mode='nearest')\n",
    "\n",
    "h1 = conv(x)\n",
    "h2 = upsample(h1)\n",
    "\n",
    "print('x       :', x.shape)\n",
    "print('conv    :', h1.shape)\n",
    "print('upsample:', h2.shape)"
   ]
  },
  {
   "cell_type": "markdown",
   "metadata": {},
   "source": [
    "## 2D UpSampling Function"
   ]
  },
  {
   "cell_type": "code",
   "execution_count": 50,
   "metadata": {},
   "outputs": [
    {
     "name": "stdout",
     "output_type": "stream",
     "text": [
      "x.shape[-2:]: torch.Size([64, 64])\n",
      "x       : torch.Size([16, 3, 64, 64])\n",
      "conv    : torch.Size([16, 12, 30, 30])\n",
      "upsample: torch.Size([16, 12, 64, 64])\n"
     ]
    }
   ],
   "source": [
    "x = torch.rand(16, 3, 64, 64) # 16 images\n",
    "\n",
    "conv = nn.Conv2d(3, 12, kernel_size=6, stride=2)\n",
    "\n",
    "h1 = conv(x)\n",
    "h2 = F.upsample(h1, size=x.shape[-2:])\n",
    "\n",
    "print('x.shape[-2:]:', x.shape[-2:])\n",
    "print('x       :', x.shape)\n",
    "print('conv    :', h1.shape)\n",
    "print('upsample:', h2.shape)"
   ]
  }
 ],
 "metadata": {
  "kernelspec": {
   "display_name": "Python 3",
   "language": "python",
   "name": "python3"
  },
  "language_info": {
   "codemirror_mode": {
    "name": "ipython",
    "version": 3
   },
   "file_extension": ".py",
   "mimetype": "text/x-python",
   "name": "python",
   "nbconvert_exporter": "python",
   "pygments_lexer": "ipython3",
   "version": "3.6.9"
  },
  "toc": {
   "base_numbering": 1,
   "nav_menu": {},
   "number_sections": true,
   "sideBar": true,
   "skip_h1_title": false,
   "title_cell": "Table of Contents",
   "title_sidebar": "Contents",
   "toc_cell": false,
   "toc_position": {},
   "toc_section_display": true,
   "toc_window_display": false
  }
 },
 "nbformat": 4,
 "nbformat_minor": 4
}
