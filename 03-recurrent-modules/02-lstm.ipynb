{
 "cells": [
  {
   "cell_type": "code",
   "execution_count": 1,
   "metadata": {},
   "outputs": [
    {
     "name": "stdout",
     "output_type": "stream",
     "text": [
      "Populating the interactive namespace from numpy and matplotlib\n"
     ]
    }
   ],
   "source": [
    "%pylab inline\n",
    "\n",
    "import torch\n",
    "import torch.nn as nn\n",
    "import torch.nn.functional as F\n",
    "import torch.optim as optim\n"
   ]
  },
  {
   "cell_type": "markdown",
   "metadata": {},
   "source": [
    "# LSTM\n",
    "\n",
    "nn.LSTM\n",
    " - input_size: x의 features 갯수\n",
    " - hidden_size:  hidden state의 크기\n",
    " - num_layers: default=1 이며 stacking LSTM 사용시 늘려준다\n",
    " - bias: default=True 이며, False일 경우 bias weights b_ih, b_hh 사용 안함\n",
    " - batch_first: default=False이며, True이면 (batch, seq_feature) 순으로 intput, output 제공됨 \n",
    " - dropout: LSTM안의 output마다 dropout이 제공됨. default=0 (확률) \n",
    " - bidirectional: default=False\n",
    "\n",
    "Input Arguments\n",
    " - input: (seq_len, batch, input_size)\n",
    " - h_0: (n_layers * n_directions, batch, hidden_size)\n",
    " - c_0: (n_layers * n_directions, batch, hidden_size)"
   ]
  },
  {
   "cell_type": "markdown",
   "metadata": {},
   "source": [
    "## Inference step at a time"
   ]
  },
  {
   "cell_type": "code",
   "execution_count": 81,
   "metadata": {},
   "outputs": [
    {
     "name": "stdout",
     "output_type": "stream",
     "text": [
      "torch.Size([1, 32, 5]) tensor(0.0698, grad_fn=<MeanBackward0>)\n",
      "torch.Size([1, 32, 5]) tensor(0.0867, grad_fn=<MeanBackward0>)\n",
      "torch.Size([1, 32, 5]) tensor(0.0916, grad_fn=<MeanBackward0>)\n",
      "torch.Size([1, 32, 5]) tensor(0.0923, grad_fn=<MeanBackward0>)\n",
      "torch.Size([1, 32, 5]) tensor(0.0804, grad_fn=<MeanBackward0>)\n",
      "torch.Size([1, 32, 5]) tensor(0.0788, grad_fn=<MeanBackward0>)\n",
      "torch.Size([1, 32, 5]) tensor(0.0980, grad_fn=<MeanBackward0>)\n",
      "torch.Size([1, 32, 5]) tensor(0.1026, grad_fn=<MeanBackward0>)\n",
      "torch.Size([1, 32, 5]) tensor(0.0984, grad_fn=<MeanBackward0>)\n"
     ]
    }
   ],
   "source": [
    "# batch = 32, input=7, hidden=5\n",
    "torch.manual_seed(1)\n",
    "\n",
    "batch_size = 32\n",
    "input_size = 7\n",
    "hidden_size = 5\n",
    "\n",
    "# initialize LSTM and hidden state.\n",
    "lstm = nn.LSTM(input_size=input_size, hidden_size=5)\n",
    "h_0 = torch.rand(1, batch_size, 5)\n",
    "c_0 = torch.randn(1, batch_size, 5)\n",
    "\n",
    "# Sequence에서 하나씩 처리를 한다\n",
    "inputs = [torch.randn(batch_size, input_size) for _ in range(9)] # (seq_len, batch, input_size)\n",
    "for i in inputs:\n",
    "    output, (h_0, c_0) = lstm(i.unsqueeze(0), (h_0, c_0))\n",
    "    print(output.shape, output.mean())"
   ]
  },
  {
   "cell_type": "markdown",
   "metadata": {},
   "source": [
    "## Inference entire sequence all at once"
   ]
  },
  {
   "cell_type": "code",
   "execution_count": 83,
   "metadata": {},
   "outputs": [
    {
     "name": "stdout",
     "output_type": "stream",
     "text": [
      "output: torch.Size([9, 32, 5])\n",
      "h_0: torch.Size([1, 32, 5])\n",
      "c_0: torch.Size([1, 32, 5])\n"
     ]
    }
   ],
   "source": [
    "inputs2 = torch.cat(inputs).view(-1, batch_size, input_size)\n",
    "output, (h_0, c_0) = lstm(inputs2, (h_0, c_0))\n",
    "\n",
    "print('output:', output.shape)\n",
    "print('h_0:', h_0.shape)\n",
    "print('c_0:', c_0.shape)"
   ]
  },
  {
   "cell_type": "code",
   "execution_count": 370,
   "metadata": {},
   "outputs": [
    {
     "data": {
      "text/plain": [
       "[['NNG', 'JKS', 'NP+JKG', 'NNG', 'JKO', 'VV', 'EP', 'EC'],\n",
       " ['MAG', 'VV', 'ETM', 'NNG', 'JX', 'NNG', 'NNG', 'NNP', 'NNG'],\n",
       " ['NNG', 'JKS', 'NP+JKG', 'NNG', 'NNP', 'NNG', 'NNG', 'JKO', 'VV', 'EP', 'EC']]"
      ]
     },
     "execution_count": 370,
     "metadata": {},
     "output_type": "execute_result"
    }
   ],
   "source": [
    "y_train"
   ]
  },
  {
   "cell_type": "code",
   "execution_count": 330,
   "metadata": {},
   "outputs": [],
   "source": [
    "from konlpy.tag import Mecab\n",
    "mecab = Mecab()\n",
    "\n",
    "def prepare_sequence(seq, to_ix):\n",
    "    idxs = [to_ix[w] for w in seq]\n",
    "    return torch.tensor(idxs, dtype=torch.long)\n",
    "\n",
    "\n",
    "training_data = [\n",
    "    '강아지가 내 사과를 먹었다',\n",
    "    '어제 먹은 사과는 완전 핵존맛', \n",
    "    '강아지가 내 핵존맛 저녁을 먹었다']\n",
    "\n",
    "x_train = []\n",
    "y_train = []\n",
    "word_to_ix = {}\n",
    "tag_to_ix = {}\n",
    "for st in training_data:\n",
    "    pos = mecab.pos(st)\n",
    "    x_train.append([i[0] for i in pos])\n",
    "    y_train.append([i[1] for i in pos])\n",
    "    \n",
    "    for word in x_train[-1]:\n",
    "        if word not in word_to_ix:\n",
    "            word_to_ix[word] = len(word_to_ix)\n",
    "    \n",
    "    for tag in y_train[-1]:\n",
    "        if tag not in tag_to_ix:\n",
    "            tag_to_ix[tag] = len(tag_to_ix)\n",
    "            \n",
    "ix_to_tag = {v:k for k, v in tag_to_ix.items()}\n",
    "\n",
    "EMBEDDING_DIM = len(word_to_ix)\n",
    "HIDDEN_DIM = 15"
   ]
  },
  {
   "cell_type": "code",
   "execution_count": 368,
   "metadata": {},
   "outputs": [],
   "source": [
    "class LSTMTagger(nn.Module):\n",
    "\n",
    "    def __init__(self, embedding_dim, hidden_dim, vocab_size, tagset_size):\n",
    "        super(LSTMTagger, self).__init__()\n",
    "        self.hidden_dim = hidden_dim\n",
    "\n",
    "        self.word_embeddings = nn.Embedding(vocab_size, embedding_dim)\n",
    "\n",
    "        # The LSTM takes word embeddings as inputs, and outputs hidden states\n",
    "        # with dimensionality hidden_dim.\n",
    "        self.lstm = nn.LSTM(embedding_dim, hidden_dim, bidirectional=False)\n",
    "        self.decoder = nn.GRU(hidden_dim, hidden_dim)\n",
    "#         self.decoder = nn.LSTM()\n",
    "\n",
    "        # The linear layer that maps from hidden state space to tag space\n",
    "        self.hidden2tag = nn.Linear(hidden_dim*1, tagset_size)\n",
    "        self.hidden = self.init_hidden()\n",
    "        self.hidden2 = None\n",
    "\n",
    "    def init_hidden(self):\n",
    "        # Before we've done anything, we dont have any hidden state.\n",
    "        # Refer to the Pytorch documentation to see exactly\n",
    "        # why they have this dimensionality.\n",
    "        # The axes semantics are (num_layers, minibatch_size, hidden_dim)\n",
    "        return (torch.zeros(1, 1, self.hidden_dim),\n",
    "                torch.zeros(1, 1, self.hidden_dim))\n",
    "\n",
    "    def forward(self, sentence):\n",
    "        embeds = self.word_embeddings(sentence)\n",
    "        \n",
    "        lstm_outs = []\n",
    "        for i in range(embeds.shape[0]):\n",
    "            lstm_out, self.hidden = self.lstm(embeds[i].view(1, 1, -1), self.hidden)\n",
    "            lstm_outs.append(lstm_out)\n",
    "            \n",
    "        encode_output = torch.cat(lstm_outs)\n",
    "        decode_output = lstm_out\n",
    "        self.hidden2 = lstm_out\n",
    "        for _ in range(len(lstm_outs)):\n",
    "            dot = encode_output @ decode_output.view(-1)\n",
    "            score = torch.softmax(dot.squeeze(-1), dim=0)\n",
    "            alignment_vectors = encode_output * score.view(-1, 1, 1)\n",
    "            decode_output = alignment_vectors.sum(0).unsqueeze(0) + decode_output\n",
    "            decode_output, self.hidden2 = self.decoder(decode_output, self.hidden2)\n",
    "        \n",
    "        tag_space = self.hidden2tag(torch.cat(lstm_outs).squeeze(1))\n",
    "        tag_scores = F.log_softmax(tag_space, dim=1)\n",
    "        return tag_scores\n",
    "\n",
    "with torch.no_grad():\n",
    "    model = LSTMTagger(EMBEDDING_DIM, hidden_dim=25, vocab_size=len(word_to_ix), tagset_size=len(tag_to_ix))\n",
    "    inputs = prepare_sequence(x_train[0], word_to_ix)\n",
    "    tag_scores = model(inputs)"
   ]
  },
  {
   "cell_type": "code",
   "execution_count": 372,
   "metadata": {},
   "outputs": [
    {
     "name": "stdout",
     "output_type": "stream",
     "text": [
      "before training: tensor([4, 5, 8, 1, 6, 0, 0, 7])\n",
      "after training: tensor([0, 1, 2, 0, 3, 4, 5, 6])\n",
      "y_true        : [0, 1, 2, 0, 3, 4, 5, 6]\n",
      "\n",
      "after training: tensor([ 7,  4,  8,  0,  9,  0,  0, 10,  0])\n",
      "y_true        : [7, 4, 8, 0, 9, 0, 0, 10, 0]\n",
      "\n",
      "after training: tensor([ 0,  1,  2,  0, 10,  0,  0,  3,  4,  5,  6])\n",
      "y_true        : [0, 1, 2, 0, 10, 0, 0, 3, 4, 5, 6]\n",
      "\n"
     ]
    }
   ],
   "source": [
    "torch.manual_seed(1)\n",
    "\n",
    "model = LSTMTagger(EMBEDDING_DIM, hidden_dim=25, vocab_size=len(word_to_ix), tagset_size=len(tag_to_ix))\n",
    "loss_function = nn.NLLLoss()\n",
    "optimizer = optim.SGD(model.parameters(), lr=0.1)\n",
    "\n",
    "# See what the scores are before training\n",
    "# Note that element i,j of the output is the score for tag j for word i.\n",
    "# Here we don't need to train, so the code is wrapped in torch.no_grad()\n",
    "with torch.no_grad():\n",
    "    inputs = prepare_sequence(x_train[0], word_to_ix)\n",
    "    tag_scores = model(inputs)\n",
    "    print('before training:', torch.softmax(tag_scores, dim=0).argmax(dim=-1))\n",
    "\n",
    "for epoch in range(300):  # again, normally you would NOT do 300 epochs, it is toy data\n",
    "    for sentence, tags in zip(x_train, y_train):\n",
    "        # Step 1. Remember that Pytorch accumulates gradients.\n",
    "        # We need to clear them out before each instance\n",
    "        model.zero_grad()\n",
    "\n",
    "        # Also, we need to clear out the hidden state of the LSTM,\n",
    "        # detaching it from its history on the last instance.\n",
    "        model.hidden = model.init_hidden()\n",
    "\n",
    "        # Step 2. Get our inputs ready for the network, that is, turn them into\n",
    "        # Tensors of word indices.\n",
    "        sentence_in = prepare_sequence(sentence, word_to_ix)\n",
    "        targets = prepare_sequence(tags, tag_to_ix)\n",
    "\n",
    "        # Step 3. Run our forward pass.\n",
    "        tag_scores = model(sentence_in)\n",
    "\n",
    "        # Step 4. Compute the loss, gradients, and update the parameters by\n",
    "        #  calling optimizer.step()\n",
    "        loss = loss_function(tag_scores, targets)\n",
    "        loss.backward()\n",
    "        optimizer.step()\n",
    "\n",
    "# See what the scores are after training\n",
    "with torch.no_grad():\n",
    "    for i in range(3):\n",
    "        inputs = prepare_sequence(x_train[i], word_to_ix)\n",
    "        tag_scores = model(inputs)\n",
    "\n",
    "        # The sentence is \"the dog ate the apple\".  i,j corresponds to score for tag j\n",
    "        # for word i. The predicted tag is the maximum scoring tag.\n",
    "        # Here, we can see the predicted sequence below is 0 1 2 0 1\n",
    "        # since 0 is index of the maximum value of row 1,\n",
    "        # 1 is the index of maximum value of row 2, etc.\n",
    "        # Which is DET NOUN VERB DET NOUN, the correct sequence!\n",
    "        print('after training:', torch.softmax(tag_scores, dim=0).argmax(dim=-1))\n",
    "        print('y_true        :', [tag_to_ix[tag] for tag in y_train[i]])\n",
    "        print()\n",
    "    "
   ]
  }
 ],
 "metadata": {
  "kernelspec": {
   "display_name": "Python 3",
   "language": "python",
   "name": "python3"
  },
  "language_info": {
   "codemirror_mode": {
    "name": "ipython",
    "version": 3
   },
   "file_extension": ".py",
   "mimetype": "text/x-python",
   "name": "python",
   "nbconvert_exporter": "python",
   "pygments_lexer": "ipython3",
   "version": "3.6.9"
  },
  "toc": {
   "base_numbering": 1,
   "nav_menu": {},
   "number_sections": true,
   "sideBar": true,
   "skip_h1_title": false,
   "title_cell": "Table of Contents",
   "title_sidebar": "Contents",
   "toc_cell": false,
   "toc_position": {},
   "toc_section_display": true,
   "toc_window_display": false
  }
 },
 "nbformat": 4,
 "nbformat_minor": 4
}
